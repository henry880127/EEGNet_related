{
  "nbformat": 4,
  "nbformat_minor": 0,
  "metadata": {
    "colab": {
      "provenance": [],
      "authorship_tag": "ABX9TyO+uCXEQySsW4mFEfzibMbA",
      "include_colab_link": true
    },
    "kernelspec": {
      "name": "python3",
      "display_name": "Python 3"
    },
    "language_info": {
      "name": "python"
    }
  },
  "cells": [
    {
      "cell_type": "markdown",
      "metadata": {
        "id": "view-in-github",
        "colab_type": "text"
      },
      "source": [
        "<a href=\"https://colab.research.google.com/github/henry880127/EEGNet_related/blob/main/EEGNet_example.ipynb\" target=\"_parent\"><img src=\"https://colab.research.google.com/assets/colab-badge.svg\" alt=\"Open In Colab\"/></a>"
      ]
    },
    {
      "cell_type": "code",
      "execution_count": 1,
      "metadata": {
        "id": "mxWO1VceSNfR"
      },
      "outputs": [],
      "source": [
        "import scipy\n",
        "import scipy.io as sio # cannot use for v7.3 mat file\n",
        "import numpy as np\n",
        "import matplotlib.pyplot as plt\n",
        "from scipy import signal\n",
        "import os\n",
        "import pickle\n",
        "from EEGNet_function import EEGNet\n",
        "from sklearn.preprocessing import OneHotEncoder\n",
        "from sklearn.model_selection import KFold\n",
        "import pandas as pd"
      ]
    },
    {
      "cell_type": "markdown",
      "source": [
        "## Functions"
      ],
      "metadata": {
        "id": "QnxjUxnVUc97"
      }
    },
    {
      "cell_type": "markdown",
      "source": [
        "### data prprocessing"
      ],
      "metadata": {
        "id": "XD6AmAYVU6HC"
      }
    },
    {
      "cell_type": "code",
      "source": [
        "def loadPickle(pklDir):\n",
        "    with open(pklDir,'rb') as fp:\n",
        "        dd = pickle.load(fp)\n",
        "        return dd\n",
        "\n",
        "def reshape2Input(a):\n",
        "    newshape = (a.shape[2], 1, a.shape[0], a.shape[1])  # trials , 1 , EEG_channels , sample_points\n",
        "    return a.reshape(newshape)\n",
        "\n",
        "def saveResult(df, save_dir):\n",
        "    df.to_csv(save_dir)"
      ],
      "metadata": {
        "id": "JagMx0N6U0oB"
      },
      "execution_count": 2,
      "outputs": []
    },
    {
      "cell_type": "code",
      "source": [
        "def random_trials(full_data, output_size, axis_to_choose):\n",
        "    # Create a sample array\n",
        "\n",
        "    # Randomly select an index from each column\n",
        "    random_indices = np.random.choice(full_data.shape[axis_to_choose], output_size, replace=False)\n",
        "    # Use the selected indices to access the data\n",
        "    selected_data = np.take(full_data, indices=random_indices, axis=axis_to_choose)\n",
        "    return selected_data"
      ],
      "metadata": {
        "id": "Nefu4z7MVFFk"
      },
      "execution_count": 3,
      "outputs": []
    },
    {
      "cell_type": "markdown",
      "source": [
        "### EEGNet"
      ],
      "metadata": {
        "id": "hrF83zmOU-Y8"
      }
    },
    {
      "cell_type": "code",
      "source": [
        "def EEGNet_fit(folder_dir, random_select_trials = False, pkl_name='unname', logs_dir='logs', K=None, startPt=0, epoch_length=1000):\n",
        "    '''data'''\n",
        "    dictData = loadPickle(f\"{folder_dir}/{pkl_name}\")\n",
        "    targetEEG_train = reshape2Input(dictData['targetEEG_train'])[\n",
        "        :, :, :, startPt:startPt+epoch_length]\n",
        "    targetEEG_test = reshape2Input(dictData['targetEEG_test'])[\n",
        "        :, :, :, startPt:startPt+epoch_length]\n",
        "    nontargetEEG_train = reshape2Input(dictData['nontargetEEG_train'])[\n",
        "        :, :, :, startPt:startPt+epoch_length]\n",
        "    nontargetEEG_test = reshape2Input(dictData['nontargetEEG_test'])[\n",
        "        :, :, :, startPt:startPt+epoch_length]\n",
        "\n",
        "    # Decide which of the above data has more trials,\n",
        "    # and randomly choose the trials form larger one.\n",
        "    if(random_select_trials==True):\n",
        "        if(targetEEG_train.shape[0] > nontargetEEG_train.shape[0]):\n",
        "            targetEEG_train = random_trials(targetEEG_train, nontargetEEG_train.shape[0], 0)\n",
        "        elif(targetEEG_train.shape[0] < nontargetEEG_train.shape[0]):\n",
        "            nontargetEEG_train = random_trials(nontargetEEG_train, targetEEG_train.shape[0], 0)\n",
        "        else:\n",
        "            pass\n",
        "        if(targetEEG_test.shape[0] > nontargetEEG_test.shape[0]):\n",
        "            targetEEG_test = random_trials(targetEEG_test, nontargetEEG_test.shape[0], 0)\n",
        "        elif(targetEEG_test.shape[0] < nontargetEEG_test.shape[0]):\n",
        "            nontargetEEG_test = random_trials(nontargetEEG_test, targetEEG_test.shape[0], 0)\n",
        "        else:\n",
        "            pass\n",
        "    epochs_train = np.concatenate((targetEEG_train, nontargetEEG_train), axis=0)\n",
        "    epochs_test = np.concatenate((targetEEG_test, nontargetEEG_test), axis=0)\n",
        "\n",
        "    # Labeling\n",
        "    encoder = OneHotEncoder(sparse=False)\n",
        "    y_train = np.ones((targetEEG_train.shape[0]))\n",
        "    y_train = np.concatenate((y_train, np.ones(nontargetEEG_train.shape[0])+1))\n",
        "    y_train = encoder.fit_transform(y_train.reshape(-1, 1))\n",
        "    y_test = np.ones((targetEEG_test.shape[0]))\n",
        "    y_test = np.concatenate((y_test, np.ones(nontargetEEG_test.shape[0])+1))\n",
        "    y_test = encoder.fit_transform(y_test.reshape(-1, 1))\n",
        "\n",
        "    # Shuffle\n",
        "    num_samples = epochs_train.shape[0]\n",
        "    shuffled_indices = np.arange(num_samples)\n",
        "    np.random.shuffle(shuffled_indices)\n",
        "    epochs_train = epochs_train[shuffled_indices, :, :, :]\n",
        "    y_train = y_train[shuffled_indices,:]\n",
        "    num_samples = epochs_test.shape[0]\n",
        "    shuffled_indices = np.arange(num_samples)\n",
        "    np.random.shuffle(shuffled_indices)\n",
        "    epochs_test = epochs_test[shuffled_indices, :, :, :]\n",
        "    y_test = y_test[shuffled_indices,:]\n",
        "    print('y_train.shape:', y_train.shape)\n",
        "    print('y_test.shape:', y_test.shape)\n",
        "    print('epochs_train.shape:', epochs_train.shape)\n",
        "    print('epochs_test.shape:', epochs_test.shape)\n",
        "    # savingFoldername = 'data_check'\n",
        "    # saveResult(pd.DataFrame(y_train), f'./results/{savingFoldername}/y_train.csv')\n",
        "    # saveResult(pd.DataFrame(y_test), f'./results/{savingFoldername}/y_test.csv')"
      ],
      "metadata": {
        "id": "3aeg6cOHUr30"
      },
      "execution_count": 4,
      "outputs": []
    }
  ]
}